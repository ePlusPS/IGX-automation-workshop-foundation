{
 "cells": [
  {
   "cell_type": "code",
   "execution_count": 1,
   "metadata": {},
   "outputs": [
    {
     "name": "stdout",
     "output_type": "stream",
     "text": [
      "hello\n"
     ]
    }
   ],
   "source": [
    "print('hello')"
   ]
  },
  {
   "cell_type": "code",
   "execution_count": 2,
   "metadata": {},
   "outputs": [],
   "source": [
    "import boto3\n",
    "ec2 = boto3.client('ec2')\n",
    "filters = [{'Name': 'tag:owner', 'Values': ['wembrey']}]\n"
   ]
  },
  {
   "cell_type": "code",
   "execution_count": 3,
   "metadata": {},
   "outputs": [
    {
     "data": {
      "text/plain": [
       "[{'Name': 'tag:owner', 'Values': ['wembrey']}]"
      ]
     },
     "execution_count": 3,
     "metadata": {},
     "output_type": "execute_result"
    }
   ],
   "source": [
    "filters"
   ]
  },
  {
   "cell_type": "code",
   "execution_count": 4,
   "metadata": {},
   "outputs": [
    {
     "data": {
      "text/plain": [
       "list"
      ]
     },
     "execution_count": 4,
     "metadata": {},
     "output_type": "execute_result"
    }
   ],
   "source": [
    "type(filters)"
   ]
  },
  {
   "cell_type": "code",
   "execution_count": 5,
   "metadata": {},
   "outputs": [],
   "source": [
    "get_instances = ec2.describe_instances(Filters = filters)"
   ]
  },
  {
   "cell_type": "code",
   "execution_count": 6,
   "metadata": {},
   "outputs": [],
   "source": [
    "my_instances = get_instances['Reservations'][:]"
   ]
  },
  {
   "cell_type": "code",
   "execution_count": 10,
   "metadata": {},
   "outputs": [
    {
     "data": {
      "text/plain": [
       "{'Groups': [],\n",
       " 'Instances': [{'AmiLaunchIndex': 0,\n",
       "   'ImageId': 'ami-0012adac0a414863c',\n",
       "   'InstanceId': 'i-06084d70a5622842f',\n",
       "   'InstanceType': 'm5.large',\n",
       "   'KeyName': 'wembrey',\n",
       "   'LaunchTime': datetime.datetime(2019, 8, 13, 14, 23, 41, tzinfo=tzutc()),\n",
       "   'Monitoring': {'State': 'disabled'},\n",
       "   'Placement': {'AvailabilityZone': 'us-east-1a',\n",
       "    'GroupName': '',\n",
       "    'Tenancy': 'default'},\n",
       "   'PrivateDnsName': 'ip-172-16-0-142.ec2.internal',\n",
       "   'PrivateIpAddress': '172.16.0.142',\n",
       "   'ProductCodes': [{'ProductCodeId': '6njl1pau431dv1qxipg63mvah',\n",
       "     'ProductCodeType': 'marketplace'}],\n",
       "   'PublicDnsName': '',\n",
       "   'PublicIpAddress': '3.218.191.224',\n",
       "   'State': {'Code': 80, 'Name': 'stopped'},\n",
       "   'StateTransitionReason': 'User initiated (2019-08-13 14:37:57 GMT)',\n",
       "   'SubnetId': 'subnet-08e45354b0f7d4cac',\n",
       "   'VpcId': 'vpc-067e58b19a78f1703',\n",
       "   'Architecture': 'x86_64',\n",
       "   'BlockDeviceMappings': [{'DeviceName': '/dev/xvda',\n",
       "     'Ebs': {'AttachTime': datetime.datetime(2019, 6, 9, 20, 59, 36, tzinfo=tzutc()),\n",
       "      'DeleteOnTermination': True,\n",
       "      'Status': 'attached',\n",
       "      'VolumeId': 'vol-06d84b2db63bdd068'}}],\n",
       "   'ClientToken': '156011396311399545',\n",
       "   'EbsOptimized': True,\n",
       "   'EnaSupport': True,\n",
       "   'Hypervisor': 'xen',\n",
       "   'NetworkInterfaces': [{'Association': {'IpOwnerId': '930337447539',\n",
       "      'PublicDnsName': '',\n",
       "      'PublicIp': '3.218.191.224'},\n",
       "     'Attachment': {'AttachTime': datetime.datetime(2019, 6, 9, 20, 59, 35, tzinfo=tzutc()),\n",
       "      'AttachmentId': 'eni-attach-0f5fdb226369d6c4d',\n",
       "      'DeleteOnTermination': True,\n",
       "      'DeviceIndex': 0,\n",
       "      'Status': 'attached'},\n",
       "     'Description': 'Primary network interface',\n",
       "     'Groups': [{'GroupName': 'wembrey_SSH-HTTPS_roaming',\n",
       "       'GroupId': 'sg-0b2122e831b02d29c'}],\n",
       "     'Ipv6Addresses': [],\n",
       "     'MacAddress': '0a:ab:ef:a2:0b:6a',\n",
       "     'NetworkInterfaceId': 'eni-028d07a5d120d8dc1',\n",
       "     'OwnerId': '930337447539',\n",
       "     'PrivateIpAddress': '172.16.0.142',\n",
       "     'PrivateIpAddresses': [{'Association': {'IpOwnerId': '930337447539',\n",
       "        'PublicDnsName': '',\n",
       "        'PublicIp': '3.218.191.224'},\n",
       "       'Primary': True,\n",
       "       'PrivateIpAddress': '172.16.0.142'}],\n",
       "     'SourceDestCheck': True,\n",
       "     'Status': 'in-use',\n",
       "     'SubnetId': 'subnet-08e45354b0f7d4cac',\n",
       "     'VpcId': 'vpc-067e58b19a78f1703',\n",
       "     'InterfaceType': 'interface'},\n",
       "    {'Attachment': {'AttachTime': datetime.datetime(2019, 6, 9, 23, 35, 5, tzinfo=tzutc()),\n",
       "      'AttachmentId': 'eni-attach-097e5f166cd2decb8',\n",
       "      'DeleteOnTermination': False,\n",
       "      'DeviceIndex': 1,\n",
       "      'Status': 'attached'},\n",
       "     'Description': 'wembrey_palo_trust',\n",
       "     'Groups': [{'GroupName': 'default', 'GroupId': 'sg-0b549067780712dd0'}],\n",
       "     'Ipv6Addresses': [],\n",
       "     'MacAddress': '0a:5e:30:9a:83:c6',\n",
       "     'NetworkInterfaceId': 'eni-0875e80e6b5fa9d43',\n",
       "     'OwnerId': '930337447539',\n",
       "     'PrivateIpAddress': '172.16.1.229',\n",
       "     'PrivateIpAddresses': [{'Primary': True,\n",
       "       'PrivateIpAddress': '172.16.1.229'}],\n",
       "     'SourceDestCheck': True,\n",
       "     'Status': 'in-use',\n",
       "     'SubnetId': 'subnet-043bf72f25befc86f',\n",
       "     'VpcId': 'vpc-067e58b19a78f1703',\n",
       "     'InterfaceType': 'interface'}],\n",
       "   'RootDeviceName': '/dev/xvda',\n",
       "   'RootDeviceType': 'ebs',\n",
       "   'SecurityGroups': [{'GroupName': 'wembrey_SSH-HTTPS_roaming',\n",
       "     'GroupId': 'sg-0b2122e831b02d29c'}],\n",
       "   'SourceDestCheck': True,\n",
       "   'StateReason': {'Code': 'Client.UserInitiatedShutdown',\n",
       "    'Message': 'Client.UserInitiatedShutdown: User initiated shutdown'},\n",
       "   'Tags': [{'Key': 'purpose', 'Value': 'training'},\n",
       "    {'Key': 'Name', 'Value': 'wembrey_palo_vm100'},\n",
       "    {'Key': 'owner', 'Value': 'wembrey'},\n",
       "    {'Key': 'role', 'Value': 'firewall'}],\n",
       "   'VirtualizationType': 'hvm',\n",
       "   'CpuOptions': {'CoreCount': 1, 'ThreadsPerCore': 2},\n",
       "   'CapacityReservationSpecification': {'CapacityReservationPreference': 'open'},\n",
       "   'HibernationOptions': {'Configured': False}}],\n",
       " 'OwnerId': '930337447539',\n",
       " 'RequesterId': '086189789714',\n",
       " 'ReservationId': 'r-0ab5a75bfa82054dd'}"
      ]
     },
     "execution_count": 10,
     "metadata": {},
     "output_type": "execute_result"
    }
   ],
   "source": [
    "get_instances['Reservations'][0]"
   ]
  },
  {
   "cell_type": "code",
   "execution_count": 8,
   "metadata": {},
   "outputs": [
    {
     "name": "stdout",
     "output_type": "stream",
     "text": [
      "[{'AmiLaunchIndex': 0, 'ImageId': 'ami-07d0cf3af28718ef8', 'InstanceId': 'i-06158340fdabd19ba', 'InstanceType': 't2.micro', 'KeyName': 'wembrey', 'LaunchTime': datetime.datetime(2019, 8, 13, 14, 23, 41, tzinfo=tzutc()), 'Monitoring': {'State': 'disabled'}, 'Placement': {'AvailabilityZone': 'us-east-1a', 'GroupName': '', 'Tenancy': 'default'}, 'PrivateDnsName': 'ip-172-16-0-178.ec2.internal', 'PrivateIpAddress': '172.16.0.178', 'ProductCodes': [], 'PublicDnsName': '', 'State': {'Code': 80, 'Name': 'stopped'}, 'StateTransitionReason': 'User initiated (2019-08-13 14:37:57 GMT)', 'SubnetId': 'subnet-08e45354b0f7d4cac', 'VpcId': 'vpc-067e58b19a78f1703', 'Architecture': 'x86_64', 'BlockDeviceMappings': [{'DeviceName': '/dev/sda1', 'Ebs': {'AttachTime': datetime.datetime(2019, 8, 7, 19, 32, 42, tzinfo=tzutc()), 'DeleteOnTermination': True, 'Status': 'attached', 'VolumeId': 'vol-05c521a26854e6233'}}], 'ClientToken': '', 'EbsOptimized': False, 'EnaSupport': True, 'Hypervisor': 'xen', 'NetworkInterfaces': [{'Attachment': {'AttachTime': datetime.datetime(2019, 8, 7, 19, 32, 41, tzinfo=tzutc()), 'AttachmentId': 'eni-attach-02863c9d30e8466da', 'DeleteOnTermination': True, 'DeviceIndex': 0, 'Status': 'attached'}, 'Description': 'Primary network interface', 'Groups': [{'GroupName': 'wembrey_SSH-HTTPS_roaming', 'GroupId': 'sg-0b2122e831b02d29c'}], 'Ipv6Addresses': [], 'MacAddress': '0a:d7:e2:6e:eb:8e', 'NetworkInterfaceId': 'eni-09c280d332420a50a', 'OwnerId': '930337447539', 'PrivateIpAddress': '172.16.0.178', 'PrivateIpAddresses': [{'Primary': True, 'PrivateIpAddress': '172.16.0.178'}], 'SourceDestCheck': True, 'Status': 'in-use', 'SubnetId': 'subnet-08e45354b0f7d4cac', 'VpcId': 'vpc-067e58b19a78f1703', 'InterfaceType': 'interface'}], 'RootDeviceName': '/dev/sda1', 'RootDeviceType': 'ebs', 'SecurityGroups': [{'GroupName': 'wembrey_SSH-HTTPS_roaming', 'GroupId': 'sg-0b2122e831b02d29c'}], 'SourceDestCheck': True, 'StateReason': {'Code': 'Client.UserInitiatedShutdown', 'Message': 'Client.UserInitiatedShutdown: User initiated shutdown'}, 'Tags': [{'Key': 'purpose', 'Value': 'training'}, {'Key': 'owner', 'Value': 'wembrey'}, {'Key': 'Name', 'Value': 'wembrey-linux-2'}], 'VirtualizationType': 'hvm', 'CpuOptions': {'CoreCount': 1, 'ThreadsPerCore': 1}, 'CapacityReservationSpecification': {'CapacityReservationPreference': 'open'}, 'HibernationOptions': {'Configured': False}}]\n"
     ]
    }
   ],
   "source": [
    "print(get_instances['Reservations'][1]['Instances'])"
   ]
  },
  {
   "cell_type": "code",
   "execution_count": 19,
   "metadata": {},
   "outputs": [
    {
     "name": "stdout",
     "output_type": "stream",
     "text": [
      "3.218.191.224\n"
     ]
    }
   ],
   "source": [
    "print(get_instances['Reservations'][0]['Instances'][0]['NetworkInterfaces'][0]['PrivateIpAddresses'][0]['Association']['PublicIp'])"
   ]
  },
  {
   "cell_type": "code",
   "execution_count": null,
   "metadata": {},
   "outputs": [],
   "source": [
    "print(get_instances['Reservations'][1]['Instances'][0]['InstanceId'])"
   ]
  },
  {
   "cell_type": "code",
   "execution_count": null,
   "metadata": {},
   "outputs": [],
   "source": [
    "my_amids = []\n",
    "my_status = {}\n",
    "for instance in my_instances:\n",
    "    amid = instance['Instances'][0]['InstanceId']\n",
    "    my_amids.append(amid)\n",
    "    my_status[amid] = instance['Instances'][0]['State']['Name']\n",
    "print( my_amids)\n",
    "print(my_status)\n"
   ]
  },
  {
   "cell_type": "code",
   "execution_count": null,
   "metadata": {},
   "outputs": [],
   "source": [
    "my_status.keys()"
   ]
  },
  {
   "cell_type": "code",
   "execution_count": null,
   "metadata": {},
   "outputs": [],
   "source": []
  },
  {
   "cell_type": "code",
   "execution_count": null,
   "metadata": {},
   "outputs": [],
   "source": []
  }
 ],
 "metadata": {
  "kernelspec": {
   "display_name": ".workshop-venv",
   "language": "python",
   "name": ".workshop-venv"
  },
  "language_info": {
   "codemirror_mode": {
    "name": "ipython",
    "version": 3
   },
   "file_extension": ".py",
   "mimetype": "text/x-python",
   "name": "python",
   "nbconvert_exporter": "python",
   "pygments_lexer": "ipython3",
   "version": "3.7.3"
  }
 },
 "nbformat": 4,
 "nbformat_minor": 4
}
